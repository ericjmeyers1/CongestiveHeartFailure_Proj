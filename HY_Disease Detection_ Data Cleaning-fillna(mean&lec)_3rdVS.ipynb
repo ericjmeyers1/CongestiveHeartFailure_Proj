{
 "cells": [
  {
   "cell_type": "code",
   "execution_count": 2,
   "metadata": {},
   "outputs": [],
   "source": [
    "import glob\n",
    "import pandas as pd\n",
    "import numpy as np"
   ]
  },
  {
   "cell_type": "code",
   "execution_count": 3,
   "metadata": {},
   "outputs": [
    {
     "data": {
      "text/plain": [
       "12"
      ]
     },
     "execution_count": 3,
     "metadata": {},
     "output_type": "execute_result"
    }
   ],
   "source": [
    "all_files = glob.glob('./*.csv')\n",
    "len(all_files)"
   ]
  },
  {
   "cell_type": "code",
   "execution_count": 4,
   "metadata": {
    "scrolled": true
   },
   "outputs": [
    {
     "data": {
      "text/plain": [
       "['./LABEVENTS.csv',\n",
       " './ADMISSIONS.csv',\n",
       " './D_LABITEMS.csv',\n",
       " './FULL_CHF.csv',\n",
       " './CHF_with_age.csv',\n",
       " './feature_importance.csv',\n",
       " './patients_labevents.csv',\n",
       " './petient_fillwith_lec.csv',\n",
       " './DIAGNOSES_ICD.csv',\n",
       " './petient_fillwith_mean.csv',\n",
       " './PATIENTS.csv',\n",
       " './D_ICD_DIAGNOSES.csv']"
      ]
     },
     "execution_count": 4,
     "metadata": {},
     "output_type": "execute_result"
    }
   ],
   "source": [
    "all_files"
   ]
  },
  {
   "cell_type": "code",
   "execution_count": 4,
   "metadata": {},
   "outputs": [],
   "source": [
    "lab_event = pd.read_csv('./LABEVENTS.csv')"
   ]
  },
  {
   "cell_type": "code",
   "execution_count": 5,
   "metadata": {},
   "outputs": [],
   "source": [
    "lab_items = pd.read_csv('./D_LABITEMS.csv')"
   ]
  },
  {
   "cell_type": "code",
   "execution_count": 6,
   "metadata": {},
   "outputs": [],
   "source": [
    "adm = pd.read_csv('./ADMISSIONS.csv')"
   ]
  },
  {
   "cell_type": "code",
   "execution_count": 7,
   "metadata": {},
   "outputs": [],
   "source": [
    "pat = pd.read_csv('./PATIENTS.csv')"
   ]
  },
  {
   "cell_type": "code",
   "execution_count": 8,
   "metadata": {},
   "outputs": [],
   "source": [
    "d_diag = pd.read_csv('./D_ICD_DIAGNOSES.csv')"
   ]
  },
  {
   "cell_type": "code",
   "execution_count": 9,
   "metadata": {},
   "outputs": [
    {
     "data": {
      "text/plain": [
       "(27854055, 9)"
      ]
     },
     "execution_count": 9,
     "metadata": {},
     "output_type": "execute_result"
    }
   ],
   "source": [
    "lab_event.shape"
   ]
  },
  {
   "cell_type": "code",
   "execution_count": 345,
   "metadata": {},
   "outputs": [
    {
     "data": {
      "text/html": [
       "<div>\n",
       "<style scoped>\n",
       "    .dataframe tbody tr th:only-of-type {\n",
       "        vertical-align: middle;\n",
       "    }\n",
       "\n",
       "    .dataframe tbody tr th {\n",
       "        vertical-align: top;\n",
       "    }\n",
       "\n",
       "    .dataframe thead th {\n",
       "        text-align: right;\n",
       "    }\n",
       "</style>\n",
       "<table border=\"1\" class=\"dataframe\">\n",
       "  <thead>\n",
       "    <tr style=\"text-align: right;\">\n",
       "      <th></th>\n",
       "      <th>SUBJECT_ID</th>\n",
       "    </tr>\n",
       "    <tr>\n",
       "      <th>VALUE</th>\n",
       "      <th></th>\n",
       "    </tr>\n",
       "  </thead>\n",
       "  <tbody>\n",
       "    <tr>\n",
       "      <th>NEG</th>\n",
       "      <td>695567</td>\n",
       "    </tr>\n",
       "    <tr>\n",
       "      <th>ART</th>\n",
       "      <td>358198</td>\n",
       "    </tr>\n",
       "    <tr>\n",
       "      <th>NORMAL</th>\n",
       "      <td>182607</td>\n",
       "    </tr>\n",
       "    <tr>\n",
       "      <th>1+</th>\n",
       "      <td>136596</td>\n",
       "    </tr>\n",
       "    <tr>\n",
       "      <th>INTUBATED</th>\n",
       "      <td>131080</td>\n",
       "    </tr>\n",
       "  </tbody>\n",
       "</table>\n",
       "</div>"
      ],
      "text/plain": [
       "           SUBJECT_ID\n",
       "VALUE                \n",
       "NEG            695567\n",
       "ART            358198\n",
       "NORMAL         182607\n",
       "1+             136596\n",
       "INTUBATED      131080"
      ]
     },
     "execution_count": 345,
     "metadata": {},
     "output_type": "execute_result"
    }
   ],
   "source": [
    "lab_event.loc[pd.isnull(lab_event.VALUENUM)].groupby('VALUE').agg({'SUBJECT_ID':'count'}).sort_values('SUBJECT_ID', ascending = False).head()\n",
    "\n"
   ]
  },
  {
   "cell_type": "code",
   "execution_count": 25,
   "metadata": {},
   "outputs": [
    {
     "data": {
      "text/html": [
       "<div>\n",
       "<style scoped>\n",
       "    .dataframe tbody tr th:only-of-type {\n",
       "        vertical-align: middle;\n",
       "    }\n",
       "\n",
       "    .dataframe tbody tr th {\n",
       "        vertical-align: top;\n",
       "    }\n",
       "\n",
       "    .dataframe thead th {\n",
       "        text-align: right;\n",
       "    }\n",
       "</style>\n",
       "<table border=\"1\" class=\"dataframe\">\n",
       "  <thead>\n",
       "    <tr style=\"text-align: right;\">\n",
       "      <th></th>\n",
       "      <th>ROW_ID</th>\n",
       "      <th>SUBJECT_ID</th>\n",
       "      <th>HADM_ID</th>\n",
       "      <th>ITEMID</th>\n",
       "      <th>CHARTTIME</th>\n",
       "      <th>VALUE</th>\n",
       "      <th>VALUENUM</th>\n",
       "      <th>VALUEUOM</th>\n",
       "      <th>FLAG</th>\n",
       "    </tr>\n",
       "  </thead>\n",
       "  <tbody>\n",
       "    <tr>\n",
       "      <th>70</th>\n",
       "      <td>351</td>\n",
       "      <td>3</td>\n",
       "      <td>NaN</td>\n",
       "      <td>51464</td>\n",
       "      <td>2101-10-14 05:00:00</td>\n",
       "      <td>NEG</td>\n",
       "      <td>NaN</td>\n",
       "      <td>EU/dL</td>\n",
       "      <td>NaN</td>\n",
       "    </tr>\n",
       "    <tr>\n",
       "      <th>72</th>\n",
       "      <td>353</td>\n",
       "      <td>3</td>\n",
       "      <td>NaN</td>\n",
       "      <td>51478</td>\n",
       "      <td>2101-10-14 05:00:00</td>\n",
       "      <td>NEG</td>\n",
       "      <td>NaN</td>\n",
       "      <td>mg/dL</td>\n",
       "      <td>NaN</td>\n",
       "    </tr>\n",
       "    <tr>\n",
       "      <th>73</th>\n",
       "      <td>354</td>\n",
       "      <td>3</td>\n",
       "      <td>NaN</td>\n",
       "      <td>51484</td>\n",
       "      <td>2101-10-14 05:00:00</td>\n",
       "      <td>NEG</td>\n",
       "      <td>NaN</td>\n",
       "      <td>mg/dL</td>\n",
       "      <td>NaN</td>\n",
       "    </tr>\n",
       "    <tr>\n",
       "      <th>74</th>\n",
       "      <td>355</td>\n",
       "      <td>3</td>\n",
       "      <td>NaN</td>\n",
       "      <td>51486</td>\n",
       "      <td>2101-10-14 05:00:00</td>\n",
       "      <td>NEG</td>\n",
       "      <td>NaN</td>\n",
       "      <td>NaN</td>\n",
       "      <td>NaN</td>\n",
       "    </tr>\n",
       "    <tr>\n",
       "      <th>75</th>\n",
       "      <td>356</td>\n",
       "      <td>3</td>\n",
       "      <td>NaN</td>\n",
       "      <td>51487</td>\n",
       "      <td>2101-10-14 05:00:00</td>\n",
       "      <td>NEG</td>\n",
       "      <td>NaN</td>\n",
       "      <td>NaN</td>\n",
       "      <td>NaN</td>\n",
       "    </tr>\n",
       "  </tbody>\n",
       "</table>\n",
       "</div>"
      ],
      "text/plain": [
       "    ROW_ID  SUBJECT_ID  HADM_ID  ITEMID            CHARTTIME VALUE  VALUENUM  \\\n",
       "70     351           3      NaN   51464  2101-10-14 05:00:00   NEG       NaN   \n",
       "72     353           3      NaN   51478  2101-10-14 05:00:00   NEG       NaN   \n",
       "73     354           3      NaN   51484  2101-10-14 05:00:00   NEG       NaN   \n",
       "74     355           3      NaN   51486  2101-10-14 05:00:00   NEG       NaN   \n",
       "75     356           3      NaN   51487  2101-10-14 05:00:00   NEG       NaN   \n",
       "\n",
       "   VALUEUOM FLAG  \n",
       "70    EU/dL  NaN  \n",
       "72    mg/dL  NaN  \n",
       "73    mg/dL  NaN  \n",
       "74      NaN  NaN  \n",
       "75      NaN  NaN  "
      ]
     },
     "execution_count": 25,
     "metadata": {},
     "output_type": "execute_result"
    }
   ],
   "source": [
    "lab_event.loc[lab_event.VALUE.isin(['NEG','NEGATIVE'])].head()"
   ]
  },
  {
   "cell_type": "code",
   "execution_count": 26,
   "metadata": {},
   "outputs": [],
   "source": [
    "lab_event = lab_event.iloc[:,[1,3,5,6,7]]"
   ]
  },
  {
   "cell_type": "code",
   "execution_count": 347,
   "metadata": {},
   "outputs": [],
   "source": [
    "lab_item_count = lab_event.groupby('ITEMID').agg({'SUBJECT_ID':'count'}).reset_index().sort_values('SUBJECT_ID',ascending=False)\n",
    "measurements = pd.merge(lab_item_count,lab_items.loc[:,['LABEL','ITEMID']], on = 'ITEMID', how = 'left').head(28).drop(columns = 'SUBJECT_ID')\n",
    "lab_meas =  pd.merge(measurements,lab_event, on = 'ITEMID', how = 'left')\n",
    "\n"
   ]
  },
  {
   "cell_type": "code",
   "execution_count": 348,
   "metadata": {},
   "outputs": [
    {
     "data": {
      "text/plain": [
       "ITEMID             0\n",
       "LABEL              0\n",
       "SUBJECT_ID         0\n",
       "VALUE            104\n",
       "VALUENUM        6443\n",
       "VALUEUOM      471672\n",
       "dtype: int64"
      ]
     },
     "execution_count": 348,
     "metadata": {},
     "output_type": "execute_result"
    }
   ],
   "source": [
    "lab_meas.isna().sum()"
   ]
  },
  {
   "cell_type": "code",
   "execution_count": 349,
   "metadata": {},
   "outputs": [],
   "source": [
    "lab_meas.dropna(subset= ['VALUE'], inplace = True)"
   ]
  },
  {
   "cell_type": "code",
   "execution_count": 350,
   "metadata": {},
   "outputs": [
    {
     "data": {
      "text/html": [
       "<div>\n",
       "<style scoped>\n",
       "    .dataframe tbody tr th:only-of-type {\n",
       "        vertical-align: middle;\n",
       "    }\n",
       "\n",
       "    .dataframe tbody tr th {\n",
       "        vertical-align: top;\n",
       "    }\n",
       "\n",
       "    .dataframe thead th {\n",
       "        text-align: right;\n",
       "    }\n",
       "</style>\n",
       "<table border=\"1\" class=\"dataframe\">\n",
       "  <thead>\n",
       "    <tr style=\"text-align: right;\">\n",
       "      <th></th>\n",
       "      <th>SUBJECT_ID</th>\n",
       "    </tr>\n",
       "    <tr>\n",
       "      <th>VALUE</th>\n",
       "      <th></th>\n",
       "    </tr>\n",
       "  </thead>\n",
       "  <tbody>\n",
       "    <tr>\n",
       "      <th>UNABLE TO REPORT</th>\n",
       "      <td>1350</td>\n",
       "    </tr>\n",
       "    <tr>\n",
       "      <th>ERROR</th>\n",
       "      <td>1315</td>\n",
       "    </tr>\n",
       "    <tr>\n",
       "      <th>&gt;150</th>\n",
       "      <td>1241</td>\n",
       "    </tr>\n",
       "    <tr>\n",
       "      <th>&lt;0.1</th>\n",
       "      <td>332</td>\n",
       "    </tr>\n",
       "    <tr>\n",
       "      <th>GREATER THAN 10</th>\n",
       "      <td>190</td>\n",
       "    </tr>\n",
       "  </tbody>\n",
       "</table>\n",
       "</div>"
      ],
      "text/plain": [
       "                  SUBJECT_ID\n",
       "VALUE                       \n",
       "UNABLE TO REPORT        1350\n",
       "ERROR                   1315\n",
       ">150                    1241\n",
       "<0.1                     332\n",
       "GREATER THAN 10          190"
      ]
     },
     "execution_count": 350,
     "metadata": {},
     "output_type": "execute_result"
    }
   ],
   "source": [
    "lab_meas.loc[pd.isnull(lab_meas.VALUENUM)].groupby('VALUE').agg({'SUBJECT_ID':'count'}).sort_values('SUBJECT_ID', ascending = False).head()\n"
   ]
  },
  {
   "cell_type": "code",
   "execution_count": 352,
   "metadata": {},
   "outputs": [
    {
     "name": "stderr",
     "output_type": "stream",
     "text": [
      "/Applications/anaconda3/lib/python3.6/site-packages/ipykernel_launcher.py:1: UserWarning: Boolean Series key will be reindexed to match DataFrame index.\n",
      "  \"\"\"Entry point for launching an IPython kernel.\n"
     ]
    }
   ],
   "source": [
    "error_index = list(lab_meas.loc[pd.isnull(lab_meas.VALUENUM)][lab_meas.VALUE.str.contains('ERROR')].index)"
   ]
  },
  {
   "cell_type": "code",
   "execution_count": 353,
   "metadata": {},
   "outputs": [],
   "source": [
    "lab_meas.drop(index = error_index, inplace = True)"
   ]
  },
  {
   "cell_type": "code",
   "execution_count": 354,
   "metadata": {},
   "outputs": [
    {
     "name": "stderr",
     "output_type": "stream",
     "text": [
      "/Applications/anaconda3/lib/python3.6/site-packages/ipykernel_launcher.py:1: UserWarning: Boolean Series key will be reindexed to match DataFrame index.\n",
      "  \"\"\"Entry point for launching an IPython kernel.\n"
     ]
    }
   ],
   "source": [
    "less_than_value = lab_meas.loc[pd.isnull(lab_meas.VALUENUM)][lab_meas.VALUE.str.contains('LESS THAN')].VALUE.str.extract('(\\d+)')\n"
   ]
  },
  {
   "cell_type": "code",
   "execution_count": 355,
   "metadata": {},
   "outputs": [],
   "source": [
    "lab_meas.loc[lab_meas.VALUE.str.contains('LESS THAN'),\n",
    "            'VALUENUM'] = lab_meas.loc[lab_meas.VALUE.str.contains('LESS THAN'),\n",
    "                                        'VALUENUM'].fillna(value = less_than_value.astype(float)[0])\n",
    "                                                                                                                                             "
   ]
  },
  {
   "cell_type": "code",
   "execution_count": 356,
   "metadata": {},
   "outputs": [
    {
     "name": "stderr",
     "output_type": "stream",
     "text": [
      "/Applications/anaconda3/lib/python3.6/site-packages/ipykernel_launcher.py:1: UserWarning: Boolean Series key will be reindexed to match DataFrame index.\n",
      "  \"\"\"Entry point for launching an IPython kernel.\n"
     ]
    }
   ],
   "source": [
    "larger_than_value = lab_meas.loc[pd.isnull(lab_meas.VALUENUM)][lab_meas.VALUE.str.contains('GREATER THAN')].VALUE.str.extract('(\\d+)')\n",
    "lab_meas.loc[lab_meas.VALUE.str.contains('GREATER THAN'),\n",
    "             'VALUENUM'] = lab_meas.loc[lab_meas.VALUE.str.contains('GREATER THAN'),\n",
    "                                        'VALUENUM'].fillna(larger_than_value.astype(float)[0])\n"
   ]
  },
  {
   "cell_type": "code",
   "execution_count": 357,
   "metadata": {},
   "outputs": [
    {
     "name": "stderr",
     "output_type": "stream",
     "text": [
      "/Applications/anaconda3/lib/python3.6/site-packages/ipykernel_launcher.py:1: UserWarning: Boolean Series key will be reindexed to match DataFrame index.\n",
      "  \"\"\"Entry point for launching an IPython kernel.\n"
     ]
    }
   ],
   "source": [
    "previous_value = lab_meas.loc[pd.isnull(lab_meas.VALUENUM)][lab_meas.VALUE.str.contains('PREVIOUSLY REPORTED AS')].VALUE.str.extract('(\\d+)')\n",
    "lab_meas.loc[lab_meas.VALUE.str.contains('PREVIOUSLY REPORTED AS'),\n",
    "                                         'VALUENUM'] = lab_meas.loc[lab_meas.VALUE.str.contains('PREVIOUSLY REPORTED AS'),\n",
    "                                                                                                'VALUENUM'].fillna(previous_value.astype(float)[0])\n"
   ]
  },
  {
   "cell_type": "code",
   "execution_count": 358,
   "metadata": {},
   "outputs": [
    {
     "name": "stderr",
     "output_type": "stream",
     "text": [
      "/Applications/anaconda3/lib/python3.6/site-packages/ipykernel_launcher.py:1: UserWarning: Boolean Series key will be reindexed to match DataFrame index.\n",
      "  \"\"\"Entry point for launching an IPython kernel.\n"
     ]
    }
   ],
   "source": [
    "lagersign_value = lab_meas.loc[pd.isnull(lab_meas.VALUENUM)][lab_meas.VALUE.str.contains('>')].VALUE.str.extract('(\\d+)')\n",
    "lab_meas.loc[lab_meas.VALUE.str.contains('>'),'VALUENUM'] = lab_meas.loc[lab_meas.VALUE.str.contains('>'),'VALUENUM'].fillna(lagersign_value.astype(float)[0])\n"
   ]
  },
  {
   "cell_type": "code",
   "execution_count": 359,
   "metadata": {},
   "outputs": [
    {
     "name": "stderr",
     "output_type": "stream",
     "text": [
      "/Applications/anaconda3/lib/python3.6/site-packages/ipykernel_launcher.py:1: UserWarning: Boolean Series key will be reindexed to match DataFrame index.\n",
      "  \"\"\"Entry point for launching an IPython kernel.\n"
     ]
    }
   ],
   "source": [
    "smallersign_value = lab_meas.loc[pd.isnull(lab_meas.VALUENUM)][lab_meas.VALUE.str.contains('<')].VALUE.str.extract('(\\d+)')\n",
    "lab_meas.loc[lab_meas.VALUE.str.contains('<'),'VALUENUM'] = lab_meas.loc[lab_meas.VALUE.str.contains('<'),'VALUENUM'].fillna(smallersign_value.astype(float)[0])\n"
   ]
  },
  {
   "cell_type": "code",
   "execution_count": 1,
   "metadata": {},
   "outputs": [
    {
     "ename": "NameError",
     "evalue": "name 'lab_meas' is not defined",
     "output_type": "error",
     "traceback": [
      "\u001b[0;31m---------------------------------------------------------------------------\u001b[0m",
      "\u001b[0;31mNameError\u001b[0m                                 Traceback (most recent call last)",
      "\u001b[0;32m<ipython-input-1-7234e05c84d5>\u001b[0m in \u001b[0;36m<module>\u001b[0;34m\u001b[0m\n\u001b[0;32m----> 1\u001b[0;31m \u001b[0mlab_meas\u001b[0m\u001b[0;34m.\u001b[0m\u001b[0mloc\u001b[0m\u001b[0;34m[\u001b[0m\u001b[0mlab_meas\u001b[0m\u001b[0;34m.\u001b[0m\u001b[0mVALUE\u001b[0m \u001b[0;34m==\u001b[0m \u001b[0;34m'150 IS HIGHEST MEASURED PTT'\u001b[0m\u001b[0;34m,\u001b[0m\u001b[0;34m'VALUENUM'\u001b[0m\u001b[0;34m]\u001b[0m \u001b[0;34m=\u001b[0m \u001b[0mlab_meas\u001b[0m\u001b[0;34m.\u001b[0m\u001b[0mloc\u001b[0m\u001b[0;34m[\u001b[0m\u001b[0mlab_meas\u001b[0m\u001b[0;34m.\u001b[0m\u001b[0mVALUE\u001b[0m \u001b[0;34m==\u001b[0m \u001b[0;34m'150 IS HIGHEST MEASURED PTT'\u001b[0m\u001b[0;34m,\u001b[0m\u001b[0;34m'VALUENUM'\u001b[0m\u001b[0;34m]\u001b[0m\u001b[0;34m.\u001b[0m\u001b[0mfillna\u001b[0m\u001b[0;34m(\u001b[0m\u001b[0;36m150\u001b[0m\u001b[0;34m)\u001b[0m\u001b[0;34m\u001b[0m\u001b[0;34m\u001b[0m\u001b[0m\n\u001b[0m",
      "\u001b[0;31mNameError\u001b[0m: name 'lab_meas' is not defined"
     ]
    }
   ],
   "source": [
    "lab_meas.loc[lab_meas.VALUE == '150 IS HIGHEST MEASURED PTT','VALUENUM'] = lab_meas.loc[lab_meas.VALUE == '150 IS HIGHEST MEASURED PTT','VALUENUM'].fillna(150)\n"
   ]
  },
  {
   "cell_type": "code",
   "execution_count": 361,
   "metadata": {},
   "outputs": [],
   "source": [
    "lab_meas.dropna(subset = ['VALUENUM'], inplace = True)"
   ]
  },
  {
   "cell_type": "code",
   "execution_count": 362,
   "metadata": {},
   "outputs": [
    {
     "data": {
      "text/plain": [
       "28"
      ]
     },
     "execution_count": 362,
     "metadata": {},
     "output_type": "execute_result"
    }
   ],
   "source": [
    "len(lab_meas.LABEL.unique())"
   ]
  },
  {
   "cell_type": "code",
   "execution_count": 150,
   "metadata": {},
   "outputs": [],
   "source": [
    "lab_sum = lab_meas.groupby(['SUBJECT_ID', 'LABEL']).agg({'VALUENUM':['min', 'max', 'mean','std']})\n",
    "lab_sum.columns = lab_sum.columns.droplevel()\n",
    "pivot_table = pd.pivot_table(lab_sum.reset_index(), index='SUBJECT_ID', columns = ['LABEL'])\n",
    "pivot_table.columns = list(map(lambda x: x[1] +'_' + x[0], zip(pivot_table.columns.get_level_values(0), pivot_table.columns.get_level_values(1))))"
   ]
  },
  {
   "cell_type": "code",
   "execution_count": 162,
   "metadata": {},
   "outputs": [],
   "source": [
    "pivot_table.iloc[:,-28:] = pivot_table.iloc[:,-28:].fillna(0)"
   ]
  },
  {
   "cell_type": "code",
   "execution_count": 167,
   "metadata": {},
   "outputs": [],
   "source": [
    "pivot_table_median = pivot_table.fillna(pivot_table.median())\n",
    "pivot_table_mean = pivot_table.fillna(pivot_table.mean())"
   ]
  },
  {
   "cell_type": "code",
   "execution_count": 172,
   "metadata": {},
   "outputs": [
    {
     "data": {
      "text/html": [
       "<div>\n",
       "<style scoped>\n",
       "    .dataframe tbody tr th:only-of-type {\n",
       "        vertical-align: middle;\n",
       "    }\n",
       "\n",
       "    .dataframe tbody tr th {\n",
       "        vertical-align: top;\n",
       "    }\n",
       "\n",
       "    .dataframe thead th {\n",
       "        text-align: right;\n",
       "    }\n",
       "</style>\n",
       "<table border=\"1\" class=\"dataframe\">\n",
       "  <thead>\n",
       "    <tr style=\"text-align: right;\">\n",
       "      <th></th>\n",
       "      <th>Anion Gap_max</th>\n",
       "      <th>Base Excess_max</th>\n",
       "      <th>Bicarbonate_max</th>\n",
       "      <th>Calcium, Total_max</th>\n",
       "      <th>Calculated Total CO2_max</th>\n",
       "      <th>Chloride_max</th>\n",
       "      <th>Creatinine_max</th>\n",
       "      <th>Glucose_max</th>\n",
       "      <th>Hematocrit_max</th>\n",
       "      <th>Hemoglobin_max</th>\n",
       "      <th>...</th>\n",
       "      <th>Platelet Count_std</th>\n",
       "      <th>Potassium_std</th>\n",
       "      <th>RDW_std</th>\n",
       "      <th>Red Blood Cells_std</th>\n",
       "      <th>Sodium_std</th>\n",
       "      <th>Urea Nitrogen_std</th>\n",
       "      <th>White Blood Cells_std</th>\n",
       "      <th>pCO2_std</th>\n",
       "      <th>pH_std</th>\n",
       "      <th>pO2_std</th>\n",
       "    </tr>\n",
       "    <tr>\n",
       "      <th>SUBJECT_ID</th>\n",
       "      <th></th>\n",
       "      <th></th>\n",
       "      <th></th>\n",
       "      <th></th>\n",
       "      <th></th>\n",
       "      <th></th>\n",
       "      <th></th>\n",
       "      <th></th>\n",
       "      <th></th>\n",
       "      <th></th>\n",
       "      <th></th>\n",
       "      <th></th>\n",
       "      <th></th>\n",
       "      <th></th>\n",
       "      <th></th>\n",
       "      <th></th>\n",
       "      <th></th>\n",
       "      <th></th>\n",
       "      <th></th>\n",
       "      <th></th>\n",
       "      <th></th>\n",
       "    </tr>\n",
       "  </thead>\n",
       "  <tbody>\n",
       "    <tr>\n",
       "      <th>2</th>\n",
       "      <td>18.298161</td>\n",
       "      <td>2.991154</td>\n",
       "      <td>29.437206</td>\n",
       "      <td>9.278462</td>\n",
       "      <td>29.288892</td>\n",
       "      <td>109.847365</td>\n",
       "      <td>1.90434</td>\n",
       "      <td>217.976133</td>\n",
       "      <td>49.6</td>\n",
       "      <td>16.5</td>\n",
       "      <td>...</td>\n",
       "      <td>210.010714</td>\n",
       "      <td>0.000000</td>\n",
       "      <td>10.960155</td>\n",
       "      <td>3.401184</td>\n",
       "      <td>0.000000</td>\n",
       "      <td>0.000000</td>\n",
       "      <td>15.485639</td>\n",
       "      <td>0.000000</td>\n",
       "      <td>0.000000</td>\n",
       "      <td>0.000000</td>\n",
       "    </tr>\n",
       "    <tr>\n",
       "      <th>3</th>\n",
       "      <td>23.000000</td>\n",
       "      <td>6.000000</td>\n",
       "      <td>27.000000</td>\n",
       "      <td>9.100000</td>\n",
       "      <td>34.000000</td>\n",
       "      <td>112.000000</td>\n",
       "      <td>3.20000</td>\n",
       "      <td>293.000000</td>\n",
       "      <td>38.4</td>\n",
       "      <td>12.8</td>\n",
       "      <td>...</td>\n",
       "      <td>85.275449</td>\n",
       "      <td>1.079544</td>\n",
       "      <td>0.814381</td>\n",
       "      <td>0.339164</td>\n",
       "      <td>3.303924</td>\n",
       "      <td>11.090376</td>\n",
       "      <td>4.030377</td>\n",
       "      <td>5.690502</td>\n",
       "      <td>0.054509</td>\n",
       "      <td>76.154137</td>\n",
       "    </tr>\n",
       "    <tr>\n",
       "      <th>4</th>\n",
       "      <td>24.000000</td>\n",
       "      <td>-1.000000</td>\n",
       "      <td>29.000000</td>\n",
       "      <td>11.000000</td>\n",
       "      <td>21.000000</td>\n",
       "      <td>109.000000</td>\n",
       "      <td>1.40000</td>\n",
       "      <td>515.000000</td>\n",
       "      <td>38.0</td>\n",
       "      <td>12.4</td>\n",
       "      <td>...</td>\n",
       "      <td>80.828149</td>\n",
       "      <td>0.440256</td>\n",
       "      <td>1.777757</td>\n",
       "      <td>0.358677</td>\n",
       "      <td>3.733118</td>\n",
       "      <td>5.707302</td>\n",
       "      <td>3.346439</td>\n",
       "      <td>0.707107</td>\n",
       "      <td>0.080829</td>\n",
       "      <td>22.627417</td>\n",
       "    </tr>\n",
       "    <tr>\n",
       "      <th>5</th>\n",
       "      <td>18.298161</td>\n",
       "      <td>2.991154</td>\n",
       "      <td>29.437206</td>\n",
       "      <td>9.278462</td>\n",
       "      <td>29.288892</td>\n",
       "      <td>109.847365</td>\n",
       "      <td>1.90434</td>\n",
       "      <td>217.976133</td>\n",
       "      <td>43.0</td>\n",
       "      <td>14.9</td>\n",
       "      <td>...</td>\n",
       "      <td>0.000000</td>\n",
       "      <td>0.000000</td>\n",
       "      <td>0.000000</td>\n",
       "      <td>0.000000</td>\n",
       "      <td>0.000000</td>\n",
       "      <td>0.000000</td>\n",
       "      <td>0.000000</td>\n",
       "      <td>0.000000</td>\n",
       "      <td>0.000000</td>\n",
       "      <td>0.000000</td>\n",
       "    </tr>\n",
       "    <tr>\n",
       "      <th>6</th>\n",
       "      <td>23.000000</td>\n",
       "      <td>0.000000</td>\n",
       "      <td>31.000000</td>\n",
       "      <td>10.800000</td>\n",
       "      <td>28.000000</td>\n",
       "      <td>110.000000</td>\n",
       "      <td>13.90000</td>\n",
       "      <td>214.000000</td>\n",
       "      <td>38.6</td>\n",
       "      <td>12.7</td>\n",
       "      <td>...</td>\n",
       "      <td>196.318075</td>\n",
       "      <td>0.562883</td>\n",
       "      <td>1.116018</td>\n",
       "      <td>0.433341</td>\n",
       "      <td>4.106324</td>\n",
       "      <td>26.818386</td>\n",
       "      <td>6.423870</td>\n",
       "      <td>5.263079</td>\n",
       "      <td>0.064187</td>\n",
       "      <td>20.791825</td>\n",
       "    </tr>\n",
       "  </tbody>\n",
       "</table>\n",
       "<p>5 rows × 112 columns</p>\n",
       "</div>"
      ],
      "text/plain": [
       "            Anion Gap_max  Base Excess_max  Bicarbonate_max  \\\n",
       "SUBJECT_ID                                                    \n",
       "2               18.298161         2.991154        29.437206   \n",
       "3               23.000000         6.000000        27.000000   \n",
       "4               24.000000        -1.000000        29.000000   \n",
       "5               18.298161         2.991154        29.437206   \n",
       "6               23.000000         0.000000        31.000000   \n",
       "\n",
       "            Calcium, Total_max  Calculated Total CO2_max  Chloride_max  \\\n",
       "SUBJECT_ID                                                               \n",
       "2                     9.278462                 29.288892    109.847365   \n",
       "3                     9.100000                 34.000000    112.000000   \n",
       "4                    11.000000                 21.000000    109.000000   \n",
       "5                     9.278462                 29.288892    109.847365   \n",
       "6                    10.800000                 28.000000    110.000000   \n",
       "\n",
       "            Creatinine_max  Glucose_max  Hematocrit_max  Hemoglobin_max  ...  \\\n",
       "SUBJECT_ID                                                               ...   \n",
       "2                  1.90434   217.976133            49.6            16.5  ...   \n",
       "3                  3.20000   293.000000            38.4            12.8  ...   \n",
       "4                  1.40000   515.000000            38.0            12.4  ...   \n",
       "5                  1.90434   217.976133            43.0            14.9  ...   \n",
       "6                 13.90000   214.000000            38.6            12.7  ...   \n",
       "\n",
       "            Platelet Count_std  Potassium_std    RDW_std  Red Blood Cells_std  \\\n",
       "SUBJECT_ID                                                                      \n",
       "2                   210.010714       0.000000  10.960155             3.401184   \n",
       "3                    85.275449       1.079544   0.814381             0.339164   \n",
       "4                    80.828149       0.440256   1.777757             0.358677   \n",
       "5                     0.000000       0.000000   0.000000             0.000000   \n",
       "6                   196.318075       0.562883   1.116018             0.433341   \n",
       "\n",
       "            Sodium_std  Urea Nitrogen_std  White Blood Cells_std  pCO2_std  \\\n",
       "SUBJECT_ID                                                                   \n",
       "2             0.000000           0.000000              15.485639  0.000000   \n",
       "3             3.303924          11.090376               4.030377  5.690502   \n",
       "4             3.733118           5.707302               3.346439  0.707107   \n",
       "5             0.000000           0.000000               0.000000  0.000000   \n",
       "6             4.106324          26.818386               6.423870  5.263079   \n",
       "\n",
       "              pH_std    pO2_std  \n",
       "SUBJECT_ID                       \n",
       "2           0.000000   0.000000  \n",
       "3           0.054509  76.154137  \n",
       "4           0.080829  22.627417  \n",
       "5           0.000000   0.000000  \n",
       "6           0.064187  20.791825  \n",
       "\n",
       "[5 rows x 112 columns]"
      ]
     },
     "execution_count": 172,
     "metadata": {},
     "output_type": "execute_result"
    }
   ],
   "source": [
    "pivot_table_mean.head()"
   ]
  },
  {
   "cell_type": "code",
   "execution_count": 168,
   "metadata": {},
   "outputs": [],
   "source": [
    "pivot_table_lecture = pivot_table.copy()"
   ]
  },
  {
   "cell_type": "code",
   "execution_count": 179,
   "metadata": {},
   "outputs": [
    {
     "data": {
      "text/html": [
       "<div>\n",
       "<style scoped>\n",
       "    .dataframe tbody tr th:only-of-type {\n",
       "        vertical-align: middle;\n",
       "    }\n",
       "\n",
       "    .dataframe tbody tr th {\n",
       "        vertical-align: top;\n",
       "    }\n",
       "\n",
       "    .dataframe thead th {\n",
       "        text-align: right;\n",
       "    }\n",
       "</style>\n",
       "<table border=\"1\" class=\"dataframe\">\n",
       "  <thead>\n",
       "    <tr style=\"text-align: right;\">\n",
       "      <th></th>\n",
       "      <th>Anion Gap_mean</th>\n",
       "      <th>Base Excess_mean</th>\n",
       "      <th>Bicarbonate_mean</th>\n",
       "      <th>Calcium, Total_mean</th>\n",
       "      <th>Calculated Total CO2_mean</th>\n",
       "      <th>Chloride_mean</th>\n",
       "      <th>Creatinine_mean</th>\n",
       "      <th>Glucose_mean</th>\n",
       "      <th>Hematocrit_mean</th>\n",
       "      <th>Hemoglobin_mean</th>\n",
       "      <th>...</th>\n",
       "      <th>Platelet Count_mean</th>\n",
       "      <th>Potassium_mean</th>\n",
       "      <th>RDW_mean</th>\n",
       "      <th>Red Blood Cells_mean</th>\n",
       "      <th>Sodium_mean</th>\n",
       "      <th>Urea Nitrogen_mean</th>\n",
       "      <th>White Blood Cells_mean</th>\n",
       "      <th>pCO2_mean</th>\n",
       "      <th>pH_mean</th>\n",
       "      <th>pO2_mean</th>\n",
       "    </tr>\n",
       "    <tr>\n",
       "      <th>SUBJECT_ID</th>\n",
       "      <th></th>\n",
       "      <th></th>\n",
       "      <th></th>\n",
       "      <th></th>\n",
       "      <th></th>\n",
       "      <th></th>\n",
       "      <th></th>\n",
       "      <th></th>\n",
       "      <th></th>\n",
       "      <th></th>\n",
       "      <th></th>\n",
       "      <th></th>\n",
       "      <th></th>\n",
       "      <th></th>\n",
       "      <th></th>\n",
       "      <th></th>\n",
       "      <th></th>\n",
       "      <th></th>\n",
       "      <th></th>\n",
       "      <th></th>\n",
       "      <th></th>\n",
       "    </tr>\n",
       "  </thead>\n",
       "  <tbody>\n",
       "    <tr>\n",
       "      <th>2</th>\n",
       "      <td>13.889359</td>\n",
       "      <td>-0.525971</td>\n",
       "      <td>25.126772</td>\n",
       "      <td>8.533693</td>\n",
       "      <td>25.441753</td>\n",
       "      <td>104.060147</td>\n",
       "      <td>1.255981</td>\n",
       "      <td>129.464892</td>\n",
       "      <td>24.800000</td>\n",
       "      <td>8.250000</td>\n",
       "      <td>...</td>\n",
       "      <td>153.500000</td>\n",
       "      <td>4.172483</td>\n",
       "      <td>7.750000</td>\n",
       "      <td>2.405000</td>\n",
       "      <td>138.814651</td>\n",
       "      <td>23.958701</td>\n",
       "      <td>11.050000</td>\n",
       "      <td>41.721972</td>\n",
       "      <td>7.378615</td>\n",
       "      <td>152.131996</td>\n",
       "    </tr>\n",
       "    <tr>\n",
       "      <th>3</th>\n",
       "      <td>14.705882</td>\n",
       "      <td>-4.266667</td>\n",
       "      <td>22.085714</td>\n",
       "      <td>7.925926</td>\n",
       "      <td>19.844444</td>\n",
       "      <td>105.638889</td>\n",
       "      <td>1.647368</td>\n",
       "      <td>121.714286</td>\n",
       "      <td>30.818182</td>\n",
       "      <td>10.278125</td>\n",
       "      <td>...</td>\n",
       "      <td>260.031250</td>\n",
       "      <td>4.448837</td>\n",
       "      <td>15.353125</td>\n",
       "      <td>3.464687</td>\n",
       "      <td>138.027027</td>\n",
       "      <td>33.236842</td>\n",
       "      <td>12.584375</td>\n",
       "      <td>31.600000</td>\n",
       "      <td>7.388958</td>\n",
       "      <td>114.955556</td>\n",
       "    </tr>\n",
       "    <tr>\n",
       "      <th>4</th>\n",
       "      <td>16.191489</td>\n",
       "      <td>-3.000000</td>\n",
       "      <td>23.638298</td>\n",
       "      <td>9.440741</td>\n",
       "      <td>19.500000</td>\n",
       "      <td>97.479167</td>\n",
       "      <td>0.741509</td>\n",
       "      <td>146.294118</td>\n",
       "      <td>30.501961</td>\n",
       "      <td>10.085417</td>\n",
       "      <td>...</td>\n",
       "      <td>277.791667</td>\n",
       "      <td>3.635417</td>\n",
       "      <td>16.714583</td>\n",
       "      <td>3.396250</td>\n",
       "      <td>133.750000</td>\n",
       "      <td>16.754717</td>\n",
       "      <td>7.208333</td>\n",
       "      <td>27.500000</td>\n",
       "      <td>7.396667</td>\n",
       "      <td>58.000000</td>\n",
       "    </tr>\n",
       "    <tr>\n",
       "      <th>5</th>\n",
       "      <td>13.889359</td>\n",
       "      <td>-0.525971</td>\n",
       "      <td>25.126772</td>\n",
       "      <td>8.533693</td>\n",
       "      <td>25.441753</td>\n",
       "      <td>104.060147</td>\n",
       "      <td>1.255981</td>\n",
       "      <td>129.464892</td>\n",
       "      <td>43.000000</td>\n",
       "      <td>14.900000</td>\n",
       "      <td>...</td>\n",
       "      <td>309.000000</td>\n",
       "      <td>4.172483</td>\n",
       "      <td>16.700000</td>\n",
       "      <td>3.960000</td>\n",
       "      <td>138.814651</td>\n",
       "      <td>23.958701</td>\n",
       "      <td>13.900000</td>\n",
       "      <td>41.721972</td>\n",
       "      <td>7.378615</td>\n",
       "      <td>152.131996</td>\n",
       "    </tr>\n",
       "    <tr>\n",
       "      <th>6</th>\n",
       "      <td>16.406250</td>\n",
       "      <td>-4.400000</td>\n",
       "      <td>20.625000</td>\n",
       "      <td>8.748148</td>\n",
       "      <td>21.200000</td>\n",
       "      <td>104.937500</td>\n",
       "      <td>2.818750</td>\n",
       "      <td>117.250000</td>\n",
       "      <td>31.410417</td>\n",
       "      <td>10.340000</td>\n",
       "      <td>...</td>\n",
       "      <td>362.514286</td>\n",
       "      <td>4.906061</td>\n",
       "      <td>15.225714</td>\n",
       "      <td>3.529143</td>\n",
       "      <td>137.093750</td>\n",
       "      <td>38.500000</td>\n",
       "      <td>12.191429</td>\n",
       "      <td>37.200000</td>\n",
       "      <td>7.342000</td>\n",
       "      <td>127.400000</td>\n",
       "    </tr>\n",
       "  </tbody>\n",
       "</table>\n",
       "<p>5 rows × 28 columns</p>\n",
       "</div>"
      ],
      "text/plain": [
       "            Anion Gap_mean  Base Excess_mean  Bicarbonate_mean  \\\n",
       "SUBJECT_ID                                                       \n",
       "2                13.889359         -0.525971         25.126772   \n",
       "3                14.705882         -4.266667         22.085714   \n",
       "4                16.191489         -3.000000         23.638298   \n",
       "5                13.889359         -0.525971         25.126772   \n",
       "6                16.406250         -4.400000         20.625000   \n",
       "\n",
       "            Calcium, Total_mean  Calculated Total CO2_mean  Chloride_mean  \\\n",
       "SUBJECT_ID                                                                  \n",
       "2                      8.533693                  25.441753     104.060147   \n",
       "3                      7.925926                  19.844444     105.638889   \n",
       "4                      9.440741                  19.500000      97.479167   \n",
       "5                      8.533693                  25.441753     104.060147   \n",
       "6                      8.748148                  21.200000     104.937500   \n",
       "\n",
       "            Creatinine_mean  Glucose_mean  Hematocrit_mean  Hemoglobin_mean  \\\n",
       "SUBJECT_ID                                                                    \n",
       "2                  1.255981    129.464892        24.800000         8.250000   \n",
       "3                  1.647368    121.714286        30.818182        10.278125   \n",
       "4                  0.741509    146.294118        30.501961        10.085417   \n",
       "5                  1.255981    129.464892        43.000000        14.900000   \n",
       "6                  2.818750    117.250000        31.410417        10.340000   \n",
       "\n",
       "            ...  Platelet Count_mean  Potassium_mean   RDW_mean  \\\n",
       "SUBJECT_ID  ...                                                   \n",
       "2           ...           153.500000        4.172483   7.750000   \n",
       "3           ...           260.031250        4.448837  15.353125   \n",
       "4           ...           277.791667        3.635417  16.714583   \n",
       "5           ...           309.000000        4.172483  16.700000   \n",
       "6           ...           362.514286        4.906061  15.225714   \n",
       "\n",
       "            Red Blood Cells_mean  Sodium_mean  Urea Nitrogen_mean  \\\n",
       "SUBJECT_ID                                                          \n",
       "2                       2.405000   138.814651           23.958701   \n",
       "3                       3.464687   138.027027           33.236842   \n",
       "4                       3.396250   133.750000           16.754717   \n",
       "5                       3.960000   138.814651           23.958701   \n",
       "6                       3.529143   137.093750           38.500000   \n",
       "\n",
       "            White Blood Cells_mean  pCO2_mean   pH_mean    pO2_mean  \n",
       "SUBJECT_ID                                                           \n",
       "2                        11.050000  41.721972  7.378615  152.131996  \n",
       "3                        12.584375  31.600000  7.388958  114.955556  \n",
       "4                         7.208333  27.500000  7.396667   58.000000  \n",
       "5                        13.900000  41.721972  7.378615  152.131996  \n",
       "6                        12.191429  37.200000  7.342000  127.400000  \n",
       "\n",
       "[5 rows x 28 columns]"
      ]
     },
     "execution_count": 179,
     "metadata": {},
     "output_type": "execute_result"
    }
   ],
   "source": [
    "\n",
    "pivot_table_mean.iloc[:,28:56].head()"
   ]
  },
  {
   "cell_type": "code",
   "execution_count": 173,
   "metadata": {},
   "outputs": [
    {
     "data": {
      "text/plain": [
       "Index(['Anion Gap_max', 'Base Excess_max', 'Bicarbonate_max',\n",
       "       'Calcium, Total_max', 'Calculated Total CO2_max', 'Chloride_max',\n",
       "       'Creatinine_max', 'Glucose_max', 'Hematocrit_max', 'Hemoglobin_max',\n",
       "       'INR(PT)_max', 'MCH_max', 'MCHC_max', 'MCV_max', 'Magnesium_max',\n",
       "       'PT_max', 'PTT_max', 'Phosphate_max', 'Platelet Count_max',\n",
       "       'Potassium_max', 'RDW_max', 'Red Blood Cells_max', 'Sodium_max',\n",
       "       'Urea Nitrogen_max', 'White Blood Cells_max', 'pCO2_max', 'pH_max',\n",
       "       'pO2_max'],\n",
       "      dtype='object')"
      ]
     },
     "execution_count": 173,
     "metadata": {},
     "output_type": "execute_result"
    }
   ],
   "source": [
    "pivot_table_lecture.iloc[:,:28].columns"
   ]
  },
  {
   "cell_type": "code",
   "execution_count": 183,
   "metadata": {},
   "outputs": [],
   "source": [
    "max_values=[16,  3,    30,   10.5,  29.28, 106,  9999, \n",
    "            140, 9999, 9999, 1.1,   33,    37,   96, \n",
    "            2.5, 13.5, 70,   4.5,   450,   5.2,  14.5, \n",
    "            9999,145, 20,   10.8,   42,    7.42, 100]\n",
    "\n",
    "min_values=[8,  -4.356,23,   8.5,   21.66, 96,   9999,\n",
    "            72,  9999, 9999, 0.8,   27,    31,   80,\n",
    "            1.5, 11,   60,   2.5,   150,   3.6,  11.5,\n",
    "            9999,135,  7,    4.3,   38,    7.38, 75]\n",
    "\n",
    "mean_values=[12, -0.526,26.5,9.5,   25.44, 101,  9999,\n",
    "            106, 9999, 9999, 0.95,  30,    34,   88,\n",
    "            2.0, 12.25,65,   3.5,   300,   4.4,  13,\n",
    "            9999,140,  13.5, 7.55,  36,    7.4,  87.5]\n",
    "\n",
    "for i in range(0,28):\n",
    "    pivot_table_lecture.iloc[:,i] =  pivot_table.iloc[:,i].fillna(max_values[i])\n",
    "    pivot_table_lecture.iloc[:,(i+28)] =  pivot_table.iloc[:,(i+28)].fillna(mean_values[i])\n",
    "    pivot_table_lecture.iloc[:,(i+56)] =  pivot_table.iloc[:,(i+56)].fillna(min_values[i])"
   ]
  },
  {
   "cell_type": "code",
   "execution_count": 203,
   "metadata": {},
   "outputs": [
    {
     "data": {
      "text/plain": [
       "(array([], dtype=int64), array([], dtype=int64))"
      ]
     },
     "execution_count": 203,
     "metadata": {},
     "output_type": "execute_result"
    }
   ],
   "source": [
    "np.where(pivot_table_lecture.isna())"
   ]
  },
  {
   "cell_type": "code",
   "execution_count": 188,
   "metadata": {},
   "outputs": [],
   "source": [
    "adm = adm.loc[:,['SUBJECT_ID','INSURANCE','LANGUAGE','RELIGION','MARITAL_STATUS','ETHNICITY']].drop_duplicates('SUBJECT_ID', keep = 'last')"
   ]
  },
  {
   "cell_type": "code",
   "execution_count": 189,
   "metadata": {},
   "outputs": [],
   "source": [
    "patient = pd.merge(pat.loc[:,['SUBJECT_ID', 'GENDER']], \n",
    "                   adm.loc[:,['SUBJECT_ID','INSURANCE','LANGUAGE','RELIGION','MARITAL_STATUS','ETHNICITY']], \n",
    "                   on = 'SUBJECT_ID', how = 'left')"
   ]
  },
  {
   "cell_type": "code",
   "execution_count": 192,
   "metadata": {},
   "outputs": [],
   "source": [
    "petient_lecture = pd.merge(pivot_table_lecture, patient, on = 'SUBJECT_ID', how = 'left')\n",
    "petient_mean = pd.merge(pivot_table_mean, patient, on = 'SUBJECT_ID', how = 'left')"
   ]
  },
  {
   "cell_type": "code",
   "execution_count": 195,
   "metadata": {},
   "outputs": [],
   "source": [
    "for df in [petient_lecture, petient_mean]:\n",
    "    df.LANGUAGE = df.LANGUAGE.fillna('NONE')\n",
    "    df.loc[df.LANGUAGE.isin(['ENGL','NONE']) == False, 'LANGUAGE'] = 'OTHER'\n",
    "    df.MARITAL_STATUS = df.MARITAL_STATUS.fillna('UNKNOWN')\n",
    "    df.loc[df.MARITAL_STATUS == 'UNKNOWN (DEFAULT)','MARITAL_STATUS'] = 'UNKNOWN'\n",
    "    df.loc[df.RELIGION.isin(['NOT SPECIFIED', 'UNOBTAINABLE']),'RELIGION'] = 'UNKNOWN'\n",
    "    df.RELIGION = df.RELIGION.fillna('UNKNOWN')\n",
    "    df.loc[df.RELIGION.isin(['UNKNOWN', 'CATHOLIC','PROTESTANT QUAKER','JEWISH']) == False,'RELIGION'] = 'OTHER'\n",
    "    df.loc[df.ETHNICITY.str.contains('ASIAN'),'ETHNICITY'] = 'ASIAN'\n",
    "    df.loc[df.ETHNICITY.str.contains('HISPANIC'),'ETHNICITY'] = 'HISPANIC/LATINO'\n",
    "    df.loc[df.ETHNICITY.str.contains('WHITE'),'ETHNICITY'] = 'WHITE'\n",
    "    df.loc[df.ETHNICITY.str.contains('BLACK'),'ETHNICITY'] = 'BLACK'\n",
    "    df.loc[df.ETHNICITY.isin(['UNABLE TO OBTAIN','UNKNOWN/NOT SPECIFIED','PATIENT DECLINED TO ANSWER']),'ETHNICITY'] = 'UNKNOWN'\n",
    "    df.loc[df.ETHNICITY.isin(['WHITE','UNKNOWN','BLACK','HISPANIC/LATINO','ASIAN']) == False,'ETHNICITY'] = 'OTHER'\n",
    "\n",
    "\n",
    "\n",
    "\n",
    "\n"
   ]
  },
  {
   "cell_type": "code",
   "execution_count": 211,
   "metadata": {},
   "outputs": [],
   "source": [
    "values = [1.2, 0.6, 0.9,\n",
    "          6.1, 4.7, 5.4,\n",
    "          52,  45,  58.5,\n",
    "          17.5,13.5,15.5,\n",
    "          1.1, 0.5, 0.8,\n",
    "          5.4, 4.2, 4.8,\n",
    "          48,  37,  42.5,\n",
    "          15.5, 12, 13.75]\n",
    "for gender in ['M','F']:\n",
    "    for feature in ['Creatinine_max', 'Creatinine_min', 'Creatinine_mean',\n",
    "                    'Red Blood Cells_max','Red Blood Cells_min','Red Blood Cells_mean',\n",
    "                    'Hematocrit_max', 'Hematocrit_min', 'Hematocrit_mean',\n",
    "                    'Hemoglobin_max', 'Hemoglobin_min', 'Hemoglobin_mean']:\n",
    "        k = 0        \n",
    "        petient_lecture.loc[(petient_lecture.GENDER == gender)&(petient_lecture[feature] == 9999), feature] =  values[k]\n"
   ]
  },
  {
   "cell_type": "code",
   "execution_count": 213,
   "metadata": {},
   "outputs": [
    {
     "data": {
      "text/plain": [
       "Series([], Name: Creatinine_min, dtype: float64)"
      ]
     },
     "execution_count": 213,
     "metadata": {},
     "output_type": "execute_result"
    }
   ],
   "source": [
    "petient_lecture.loc[(petient_lecture.GENDER == 'M')&(petient_lecture['Creatinine_min'] == 9999), 'Creatinine_min']"
   ]
  },
  {
   "cell_type": "markdown",
   "metadata": {},
   "source": [
    "## import age columns and imputer NAs as 0 (represents children)"
   ]
  },
  {
   "cell_type": "code",
   "execution_count": 215,
   "metadata": {},
   "outputs": [],
   "source": [
    "age = pd.read_csv('./CHF_with_age.csv').loc[:,['SUBJECT_ID','AGE']].sort_values('AGE')"
   ]
  },
  {
   "cell_type": "code",
   "execution_count": 224,
   "metadata": {},
   "outputs": [],
   "source": [
    "petient_mean = pd.merge(petient_mean, age, on = 'SUBJECT_ID', how  = 'left')"
   ]
  },
  {
   "cell_type": "code",
   "execution_count": 225,
   "metadata": {},
   "outputs": [],
   "source": [
    "petient_mean = petient_mean.fillna(0)"
   ]
  },
  {
   "cell_type": "code",
   "execution_count": 220,
   "metadata": {},
   "outputs": [],
   "source": [
    "petient_lecture = pd.merge(petient_lecture, age, on = 'SUBJECT_ID', how  = 'left')"
   ]
  },
  {
   "cell_type": "code",
   "execution_count": 223,
   "metadata": {},
   "outputs": [],
   "source": [
    "petient_lecture = petient_lecture.fillna(0)"
   ]
  },
  {
   "cell_type": "code",
   "execution_count": 226,
   "metadata": {},
   "outputs": [
    {
     "data": {
      "text/plain": [
       "(45541, 120)"
      ]
     },
     "execution_count": 226,
     "metadata": {},
     "output_type": "execute_result"
    }
   ],
   "source": [
    "petient_lecture.shape"
   ]
  },
  {
   "cell_type": "markdown",
   "metadata": {},
   "source": [
    "## Clean target feature"
   ]
  },
  {
   "cell_type": "code",
   "execution_count": 331,
   "metadata": {},
   "outputs": [
    {
     "name": "stderr",
     "output_type": "stream",
     "text": [
      "/Applications/anaconda3/lib/python3.6/site-packages/ipykernel_launcher.py:4: UserWarning: Boolean Series key will be reindexed to match DataFrame index.\n",
      "  after removing the cwd from sys.path.\n"
     ]
    },
    {
     "data": {
      "text/html": [
       "<div>\n",
       "<style scoped>\n",
       "    .dataframe tbody tr th:only-of-type {\n",
       "        vertical-align: middle;\n",
       "    }\n",
       "\n",
       "    .dataframe tbody tr th {\n",
       "        vertical-align: top;\n",
       "    }\n",
       "\n",
       "    .dataframe thead th {\n",
       "        text-align: right;\n",
       "    }\n",
       "</style>\n",
       "<table border=\"1\" class=\"dataframe\">\n",
       "  <thead>\n",
       "    <tr style=\"text-align: right;\">\n",
       "      <th></th>\n",
       "      <th>ROW_ID</th>\n",
       "      <th>SUBJECT_ID</th>\n",
       "      <th>HADM_ID</th>\n",
       "      <th>SEQ_NUM</th>\n",
       "      <th>ICD9_CODE</th>\n",
       "      <th>SHORT_TITLE</th>\n",
       "    </tr>\n",
       "  </thead>\n",
       "  <tbody>\n",
       "  </tbody>\n",
       "</table>\n",
       "</div>"
      ],
      "text/plain": [
       "Empty DataFrame\n",
       "Columns: [ROW_ID, SUBJECT_ID, HADM_ID, SEQ_NUM, ICD9_CODE, SHORT_TITLE]\n",
       "Index: []"
      ]
     },
     "execution_count": 331,
     "metadata": {},
     "output_type": "execute_result"
    }
   ],
   "source": [
    "diag = pd.read_csv('./DIAGNOSES_ICD.csv')\n",
    "#make sure nan values do not belong to CHF NOS\n",
    "dia_pat = pd.merge(diag, d_diag.loc[:,['ICD9_CODE','SHORT_TITLE']], on = 'ICD9_CODE', how = 'left')\n",
    "dia_pat[pd.isnull(dia_pat.SHORT_TITLE)][dia_pat.ICD9_CODE==4280]\n"
   ]
  },
  {
   "cell_type": "code",
   "execution_count": 332,
   "metadata": {},
   "outputs": [],
   "source": [
    "dia_pat = dia_pat.loc[:,['SUBJECT_ID','SHORT_TITLE']].fillna('None')\n",
    "dia_pat.columns = ['SUBJECT_ID','CHF']\n",
    "dia_pat.loc[dia_pat['CHF'].str.contains('CHF'), 'CHF'] = 1\n",
    "dia_pat.loc[dia_pat['CHF']!= 1, 'CHF'] = 0"
   ]
  },
  {
   "cell_type": "code",
   "execution_count": 333,
   "metadata": {},
   "outputs": [],
   "source": [
    "dia_pat = dia_pat.groupby('SUBJECT_ID').agg('sum').reset_index()\n",
    "dia_pat.loc[dia_pat.CHF > 0, 'CHF'] = 1"
   ]
  },
  {
   "cell_type": "code",
   "execution_count": 334,
   "metadata": {},
   "outputs": [
    {
     "data": {
      "text/plain": [
       "0    36677\n",
       "1     9843\n",
       "Name: CHF, dtype: int64"
      ]
     },
     "execution_count": 334,
     "metadata": {},
     "output_type": "execute_result"
    }
   ],
   "source": [
    "dia_pat.CHF.value_counts()"
   ]
  },
  {
   "cell_type": "code",
   "execution_count": 335,
   "metadata": {},
   "outputs": [],
   "source": [
    "petient_lecture = pd.merge(petient_lecture, dia_pat, on='SUBJECT_ID', how='left')"
   ]
  },
  {
   "cell_type": "code",
   "execution_count": 340,
   "metadata": {},
   "outputs": [
    {
     "data": {
      "text/plain": [
       "0    35707\n",
       "1     9834\n",
       "Name: CHF, dtype: int64"
      ]
     },
     "execution_count": 340,
     "metadata": {},
     "output_type": "execute_result"
    }
   ],
   "source": [
    "petient_lecture.CHF.value_counts()"
   ]
  },
  {
   "cell_type": "code",
   "execution_count": 341,
   "metadata": {},
   "outputs": [],
   "source": [
    "petient_mean = pd.merge(petient_mean, dia_pat, on='SUBJECT_ID', how='left')"
   ]
  },
  {
   "cell_type": "code",
   "execution_count": 342,
   "metadata": {},
   "outputs": [
    {
     "data": {
      "text/plain": [
       "0    35707\n",
       "1     9834\n",
       "Name: CHF, dtype: int64"
      ]
     },
     "execution_count": 342,
     "metadata": {},
     "output_type": "execute_result"
    }
   ],
   "source": [
    "petient_mean.CHF.value_counts()"
   ]
  },
  {
   "cell_type": "code",
   "execution_count": 343,
   "metadata": {},
   "outputs": [],
   "source": [
    "petient_mean.to_csv('petient_fillwith_mean.csv')"
   ]
  },
  {
   "cell_type": "code",
   "execution_count": 344,
   "metadata": {},
   "outputs": [],
   "source": [
    "petient_lecture.to_csv('petient_fillwith_lec.csv')"
   ]
  },
  {
   "cell_type": "code",
   "execution_count": null,
   "metadata": {},
   "outputs": [],
   "source": []
  },
  {
   "cell_type": "code",
   "execution_count": null,
   "metadata": {},
   "outputs": [],
   "source": []
  },
  {
   "cell_type": "code",
   "execution_count": null,
   "metadata": {},
   "outputs": [],
   "source": []
  },
  {
   "cell_type": "code",
   "execution_count": null,
   "metadata": {},
   "outputs": [],
   "source": []
  },
  {
   "cell_type": "code",
   "execution_count": null,
   "metadata": {},
   "outputs": [],
   "source": []
  },
  {
   "cell_type": "code",
   "execution_count": null,
   "metadata": {},
   "outputs": [],
   "source": []
  },
  {
   "cell_type": "code",
   "execution_count": null,
   "metadata": {},
   "outputs": [],
   "source": []
  },
  {
   "cell_type": "code",
   "execution_count": null,
   "metadata": {},
   "outputs": [],
   "source": []
  },
  {
   "cell_type": "code",
   "execution_count": null,
   "metadata": {},
   "outputs": [],
   "source": []
  },
  {
   "cell_type": "code",
   "execution_count": null,
   "metadata": {},
   "outputs": [],
   "source": []
  },
  {
   "cell_type": "code",
   "execution_count": null,
   "metadata": {},
   "outputs": [],
   "source": []
  },
  {
   "cell_type": "code",
   "execution_count": null,
   "metadata": {},
   "outputs": [],
   "source": []
  },
  {
   "cell_type": "code",
   "execution_count": null,
   "metadata": {},
   "outputs": [],
   "source": []
  },
  {
   "cell_type": "code",
   "execution_count": null,
   "metadata": {},
   "outputs": [],
   "source": []
  },
  {
   "cell_type": "code",
   "execution_count": null,
   "metadata": {},
   "outputs": [],
   "source": []
  },
  {
   "cell_type": "code",
   "execution_count": null,
   "metadata": {},
   "outputs": [],
   "source": []
  },
  {
   "cell_type": "code",
   "execution_count": null,
   "metadata": {},
   "outputs": [],
   "source": []
  },
  {
   "cell_type": "code",
   "execution_count": null,
   "metadata": {},
   "outputs": [],
   "source": []
  },
  {
   "cell_type": "code",
   "execution_count": null,
   "metadata": {},
   "outputs": [],
   "source": []
  },
  {
   "cell_type": "code",
   "execution_count": null,
   "metadata": {},
   "outputs": [],
   "source": []
  },
  {
   "cell_type": "code",
   "execution_count": null,
   "metadata": {},
   "outputs": [],
   "source": []
  },
  {
   "cell_type": "code",
   "execution_count": null,
   "metadata": {},
   "outputs": [],
   "source": []
  },
  {
   "cell_type": "code",
   "execution_count": null,
   "metadata": {},
   "outputs": [],
   "source": []
  },
  {
   "cell_type": "code",
   "execution_count": null,
   "metadata": {},
   "outputs": [],
   "source": []
  },
  {
   "cell_type": "code",
   "execution_count": null,
   "metadata": {},
   "outputs": [],
   "source": []
  },
  {
   "cell_type": "code",
   "execution_count": null,
   "metadata": {},
   "outputs": [],
   "source": []
  },
  {
   "cell_type": "code",
   "execution_count": null,
   "metadata": {},
   "outputs": [],
   "source": []
  },
  {
   "cell_type": "code",
   "execution_count": null,
   "metadata": {},
   "outputs": [],
   "source": []
  },
  {
   "cell_type": "code",
   "execution_count": 25,
   "metadata": {},
   "outputs": [
    {
     "name": "stdout",
     "output_type": "stream",
     "text": [
      "M    25972\n",
      "F    20270\n",
      "Name: GENDER, dtype: int64\n",
      "------------------------------\n",
      "Medicare      20890\n",
      "Private       18965\n",
      "Medicaid       4342\n",
      "Government     1485\n",
      "Self Pay        560\n",
      "Name: INSURANCE, dtype: int64\n",
      "------------------------------\n",
      "ENGL     21743\n",
      "NONE     21095\n",
      "OTHER     3404\n",
      "Name: LANGUAGE, dtype: int64\n",
      "------------------------------\n",
      "UNKNOWN              17519\n",
      "CATHOLIC             15626\n",
      "PROTESTANT QUAKER     5112\n",
      "OTHER                 4180\n",
      "JEWISH                3805\n",
      "Name: RELIGION, dtype: int64\n",
      "------------------------------\n",
      "MARRIED        18473\n",
      "UNKNOWN         9849\n",
      "SINGLE          9749\n",
      "POSTMARRIED     8171\n",
      "Name: MARITAL_STATUS, dtype: int64\n",
      "------------------------------\n"
     ]
    }
   ],
   "source": [
    "for i in range(-6,-1):\n",
    "    print(petient_final.iloc[:,i].value_counts())\n",
    "    print('-'*30)\n"
   ]
  },
  {
   "cell_type": "code",
   "execution_count": 209,
   "metadata": {},
   "outputs": [],
   "source": []
  },
  {
   "cell_type": "code",
   "execution_count": 196,
   "metadata": {},
   "outputs": [],
   "source": []
  },
  {
   "cell_type": "code",
   "execution_count": 197,
   "metadata": {},
   "outputs": [],
   "source": []
  },
  {
   "cell_type": "code",
   "execution_count": null,
   "metadata": {},
   "outputs": [],
   "source": []
  },
  {
   "cell_type": "code",
   "execution_count": null,
   "metadata": {},
   "outputs": [],
   "source": []
  },
  {
   "cell_type": "code",
   "execution_count": null,
   "metadata": {},
   "outputs": [],
   "source": []
  },
  {
   "cell_type": "code",
   "execution_count": null,
   "metadata": {},
   "outputs": [],
   "source": []
  },
  {
   "cell_type": "code",
   "execution_count": null,
   "metadata": {},
   "outputs": [],
   "source": []
  },
  {
   "cell_type": "code",
   "execution_count": null,
   "metadata": {},
   "outputs": [],
   "source": []
  }
 ],
 "metadata": {
  "kernelspec": {
   "display_name": "Python 3",
   "language": "python",
   "name": "python3"
  },
  "language_info": {
   "codemirror_mode": {
    "name": "ipython",
    "version": 3
   },
   "file_extension": ".py",
   "mimetype": "text/x-python",
   "name": "python",
   "nbconvert_exporter": "python",
   "pygments_lexer": "ipython3",
   "version": "3.6.9"
  }
 },
 "nbformat": 4,
 "nbformat_minor": 2
}
